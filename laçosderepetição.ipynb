{
  "nbformat": 4,
  "nbformat_minor": 0,
  "metadata": {
    "colab": {
      "provenance": [],
      "authorship_tag": "ABX9TyMmEWPMPBzriM4GYk5Sv15W",
      "include_colab_link": true
    },
    "kernelspec": {
      "name": "python3",
      "display_name": "Python 3"
    },
    "language_info": {
      "name": "python"
    }
  },
  "cells": [
    {
      "cell_type": "markdown",
      "metadata": {
        "id": "view-in-github",
        "colab_type": "text"
      },
      "source": [
        "<a href=\"https://colab.research.google.com/github/gmorettirib/AULAS_PA/blob/main/la%C3%A7osderepeti%C3%A7%C3%A3o.ipynb\" target=\"_parent\"><img src=\"https://colab.research.google.com/assets/colab-badge.svg\" alt=\"Open In Colab\"/></a>"
      ]
    },
    {
      "cell_type": "code",
      "source": [
        "print(\"Bom dia\")\n",
        "print(\"Bom dia\")\n",
        "print(\"Bom dia\")\n",
        "print(\"Bom dia\")\n",
        "print(\"Bom dia\")\n",
        "print(\"Bom dia\")\n",
        "print(\"Bom dia\")\n",
        "print(\"Bom dia\")\n",
        "print(\"Bom dia\")\n",
        "print(\"Bom dia\")\n"
      ],
      "metadata": {
        "colab": {
          "base_uri": "https://localhost:8080/"
        },
        "id": "B8Jvx4MoaIOC",
        "outputId": "2af1f5ac-7bc6-4b85-d831-46780dcb956e"
      },
      "execution_count": 2,
      "outputs": [
        {
          "output_type": "stream",
          "name": "stdout",
          "text": [
            "Bom dia\n",
            "Bom dia\n",
            "Bom dia\n",
            "Bom dia\n",
            "Bom dia\n",
            "Bom dia\n",
            "Bom dia\n",
            "Bom dia\n",
            "Bom dia\n",
            "Bom dia\n"
          ]
        }
      ]
    },
    {
      "cell_type": "code",
      "execution_count": 10,
      "metadata": {
        "colab": {
          "base_uri": "https://localhost:8080/"
        },
        "id": "WJHkvvnnZ8xZ",
        "outputId": "433ef16c-32ec-45d5-e535-a3eb2ce7fe02"
      },
      "outputs": [
        {
          "output_type": "stream",
          "name": "stdout",
          "text": [
            "1  - Bom dia\n",
            "2  - Bom dia\n",
            "3  - Bom dia\n",
            "4  - Bom dia\n",
            "5  - Bom dia\n",
            "6  - Bom dia\n",
            "7  - Bom dia\n",
            "8  - Bom dia\n",
            "9  - Bom dia\n",
            "10  - Bom dia\n"
          ]
        }
      ],
      "source": [
        "for i in range(1,11):\n",
        "  #print(i)\n",
        "  print(i ,\" - Bom dia\")"
      ]
    },
    {
      "cell_type": "code",
      "source": [
        "# MOSTRAR TODO OS NUMEROS IMPARES DE 1 A 30\n",
        "\n",
        "for i in range(1,31):\n",
        "  if i % 2 == 1:\n",
        "    print(i)"
      ],
      "metadata": {
        "colab": {
          "base_uri": "https://localhost:8080/"
        },
        "id": "oVU1br3ibfks",
        "outputId": "72df85bf-a711-4e90-c9a5-2b2d1dc2981a"
      },
      "execution_count": 11,
      "outputs": [
        {
          "output_type": "stream",
          "name": "stdout",
          "text": [
            "1\n",
            "3\n",
            "5\n",
            "7\n",
            "9\n",
            "11\n",
            "13\n",
            "15\n",
            "17\n",
            "19\n",
            "21\n",
            "23\n",
            "25\n",
            "27\n",
            "29\n"
          ]
        }
      ]
    },
    {
      "cell_type": "code",
      "source": [
        "# CONTADOR DE UM NUMERO INICIAL E UM NUMERO FINAL\n",
        "# DIGITADOS PELO USUARIO\n",
        "\n",
        "inicial = int(input(\"Digite o numero inicial: \"))\n",
        "final = int(input(\"Digite o numero final: \"))\n",
        "\n",
        "for i in range(inicial,final+1):\n",
        "  print(i)"
      ],
      "metadata": {
        "colab": {
          "base_uri": "https://localhost:8080/"
        },
        "id": "91VBTM89fY6y",
        "outputId": "c173dbb4-1f3c-4111-bff5-a1ccb8120424"
      },
      "execution_count": 13,
      "outputs": [
        {
          "output_type": "stream",
          "name": "stdout",
          "text": [
            "Digite o numero inicial: 1\n",
            "Digite o numero final: 3\n",
            "1\n",
            "2\n",
            "3\n"
          ]
        }
      ]
    },
    {
      "cell_type": "code",
      "source": [
        "# CONTADOR DE UM NUMERO INICIAL E UM NUMERO FINAL\n",
        "# DIGITADOS PELO USUARIO\n",
        "\n",
        "inicial = int(input(\"Digite o numero inicial: \"))\n",
        "final = int(input(\"Digite o numero final: \"))\n",
        "aux =  0\n",
        "\n",
        "if inicial > final:\n",
        "  aux = inicial\n",
        "  inicial = final\n",
        "  final = aux\n",
        "\n",
        "for i in range(inicial,final+1):\n",
        "  print(i)"
      ],
      "metadata": {
        "colab": {
          "base_uri": "https://localhost:8080/"
        },
        "id": "ScS1hT8YhxxY",
        "outputId": "67510d48-6841-47a4-fe10-10dfb1cb9959"
      },
      "execution_count": 16,
      "outputs": [
        {
          "output_type": "stream",
          "name": "stdout",
          "text": [
            "Digite o numero inicial: 12\n",
            "Digite o numero final: 1\n",
            "1\n",
            "2\n",
            "3\n",
            "4\n",
            "5\n",
            "6\n",
            "7\n",
            "8\n",
            "9\n",
            "10\n",
            "11\n",
            "12\n"
          ]
        }
      ]
    },
    {
      "cell_type": "code",
      "source": [
        "#SOME TODOS OS NUMEROS DE 1 A 10\n",
        "soma = 0\n",
        "for i in range (1,11):\n",
        "  soma = soma + i\n",
        "  print(\"acumulado => \" ,soma)\n",
        "print(\"total =>\" ,soma)"
      ],
      "metadata": {
        "colab": {
          "base_uri": "https://localhost:8080/"
        },
        "id": "Ui1lJ4RPjZFq",
        "outputId": "9fffcdea-4912-4711-fba8-9e6b81f0993a"
      },
      "execution_count": 22,
      "outputs": [
        {
          "output_type": "stream",
          "name": "stdout",
          "text": [
            "acumulado =>  1\n",
            "acumulado =>  3\n",
            "acumulado =>  6\n",
            "acumulado =>  10\n",
            "acumulado =>  15\n",
            "acumulado =>  21\n",
            "acumulado =>  28\n",
            "acumulado =>  36\n",
            "acumulado =>  45\n",
            "acumulado =>  55\n",
            "total => 55\n"
          ]
        }
      ]
    },
    {
      "cell_type": "code",
      "source": [
        "#SOMA DE TODOS OS NUMEROS IMPARES DE 1 ATE 100\n",
        "soma = 0\n",
        "for i in range (1,101):\n",
        "  if i % 2 == 1:\n",
        "    soma = soma + i\n",
        "\n",
        "print(\"total =>\" ,soma)"
      ],
      "metadata": {
        "colab": {
          "base_uri": "https://localhost:8080/"
        },
        "id": "ghfJ6GBrlXIk",
        "outputId": "0282f46c-c6bc-4f24-bdf2-c969594de85a"
      },
      "execution_count": 24,
      "outputs": [
        {
          "output_type": "stream",
          "name": "stdout",
          "text": [
            "total => 2500\n"
          ]
        }
      ]
    },
    {
      "cell_type": "code",
      "source": [
        "from ast import Num\n",
        "# CONTADOR DE 1 A 100 COM WHILE\n",
        "\n",
        "\n",
        "num = 1\n",
        "while (num <= 100):\n",
        "  print(num)\n",
        "  #num = num + 1\n",
        "  num += 1"
      ],
      "metadata": {
        "id": "d0doWVXWoGlX"
      },
      "execution_count": null,
      "outputs": []
    },
    {
      "cell_type": "code",
      "source": [
        "# DIGITE NUMEROS ATÉ QUE O USUARIO DIGITE 0\n",
        "numero = int(input(\"digite um número \"))\n",
        "soma = numero\n",
        "while numero != 0:\n",
        "  numero = int(input(\"Digite um número: \"))\n",
        "  soma += numero\n",
        "print(\"Total = \" ,soma)"
      ],
      "metadata": {
        "colab": {
          "base_uri": "https://localhost:8080/"
        },
        "id": "OTBXsqP2pmim",
        "outputId": "a679663d-dd05-41f3-d008-74d81d007fbb"
      },
      "execution_count": 40,
      "outputs": [
        {
          "output_type": "stream",
          "name": "stdout",
          "text": [
            "digite um número 1313\n",
            "Digite um número: 3131\n",
            "Digite um número: 0\n",
            "Total =  4444\n"
          ]
        }
      ]
    },
    {
      "cell_type": "code",
      "source": [
        "#CRIANDO MENU DE OPÇÕES\n",
        "opcao = 0\n",
        "while opcao != 4:\n",
        "\n",
        "  print(\"ESCOLHA UMA OPÇÃO\")\n",
        "  print(\"ESCOLHA 1 PARA OPAÇÃO 1\")\n",
        "  print(\"ESCOLHA 2 PARA OPAÇÃO 2\")\n",
        "  print(\"ESCOLHA 3 PARA OPAÇÃO 3\")\n",
        "  print(\"ESCOLHA 4 PARA SAIR\")\n",
        "  opcao = int(input(\"Digite sua opção => \"))\n",
        "  if opcao == 1:\n",
        "    print(\"Você escolheu a opção 1\")\n",
        "    print()\n",
        "    print(\"*******************************\")\n",
        "  elif opcao == 2:\n",
        "    print(\"Você escolheu a opção 2\")\n",
        "    print()\n",
        "    print(\"*******************************\")\n",
        "  elif opcao == 3:\n",
        "    print(\"Você escolheu a opção 3\")\n",
        "    print()\n",
        "    print(\"*******************************\")\n",
        "\n"
      ],
      "metadata": {
        "colab": {
          "base_uri": "https://localhost:8080/"
        },
        "id": "qZX7HtLRzaBm",
        "outputId": "a01d5cbc-dc92-4911-b961-721239421160"
      },
      "execution_count": null,
      "outputs": [
        {
          "output_type": "stream",
          "name": "stdout",
          "text": [
            "ESCOLHA UMA OPÇÃO\n",
            "ESCOLHA 1 PARA OPAÇÃO 1\n",
            "ESCOLHA 2 PARA OPAÇÃO 2\n",
            "ESCOLHA 3 PARA OPAÇÃO 3\n",
            "ESCOLHA 4 PARA SAIR\n",
            "Digite sua opção => 2\n",
            "Você escolheu a opção 2\n",
            "\n",
            "*******************************\n",
            "ESCOLHA UMA OPÇÃO\n",
            "ESCOLHA 1 PARA OPAÇÃO 1\n",
            "ESCOLHA 2 PARA OPAÇÃO 2\n",
            "ESCOLHA 3 PARA OPAÇÃO 3\n",
            "ESCOLHA 4 PARA SAIR\n"
          ]
        }
      ]
    }
  ]
}