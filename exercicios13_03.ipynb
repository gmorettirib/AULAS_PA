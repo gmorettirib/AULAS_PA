{
  "nbformat": 4,
  "nbformat_minor": 0,
  "metadata": {
    "colab": {
      "provenance": [],
      "authorship_tag": "ABX9TyMJ4dvtQo8/qjbS50n0+ze8",
      "include_colab_link": true
    },
    "kernelspec": {
      "name": "python3",
      "display_name": "Python 3"
    },
    "language_info": {
      "name": "python"
    }
  },
  "cells": [
    {
      "cell_type": "markdown",
      "metadata": {
        "id": "view-in-github",
        "colab_type": "text"
      },
      "source": [
        "<a href=\"https://colab.research.google.com/github/gmorettirib/AULAS_PA/blob/main/exercicios13_03.ipynb\" target=\"_parent\"><img src=\"https://colab.research.google.com/assets/colab-badge.svg\" alt=\"Open In Colab\"/></a>"
      ]
    },
    {
      "cell_type": "code",
      "execution_count": null,
      "metadata": {
        "id": "lkeOzo8WPqge"
      },
      "outputs": [],
      "source": [
        "    val = float(input(\"digite o valor da peça \"))\n",
        "qtde = float(input(\"digite a quantidade da peça \"))\n",
        "vt = qtde * val\n",
        "print(\"o valor total é:\", vt)"
      ]
    },
    {
      "cell_type": "code",
      "source": [
        "qtdemin = float(input(\"digite a quantidade minima do produto \"))\n",
        "qtdemax = float(input(\"digite a quantidade maxima do produto \"))\n",
        "estomed = (qtdemin + qtdemax)/2\n",
        "print(\"o estoque medio do produto é:\", estomed)"
      ],
      "metadata": {
        "colab": {
          "base_uri": "https://localhost:8080/"
        },
        "id": "a520BrYGShGI",
        "outputId": "e179b9ff-9c96-42d1-bdba-5fd43d975c91"
      },
      "execution_count": null,
      "outputs": [
        {
          "output_type": "stream",
          "name": "stdout",
          "text": [
            "digite a quantidade minima do produto 2\n",
            "digite a quantidade maxima do produto 3\n",
            "o estoque medio do produto é: 2.5\n"
          ]
        }
      ]
    },
    {
      "cell_type": "code",
      "source": [
        "dol = float(input(\"qual a cotação atual do dolar \"))\n",
        "real = float(input(\"quanto você quer converter \"))\n",
        "con = real/dol\n",
        "print(\"seu valor em dolar é:\", con)"
      ],
      "metadata": {
        "id": "bZqWBXuNTEN8"
      },
      "execution_count": null,
      "outputs": []
    },
    {
      "cell_type": "code",
      "source": [
        "n1 = float(input(\"digite o 1 numero \"))\n",
        "n2 = float(input(\"digite o 2 numero \"))\n",
        "n3 = float(input(\"digite o 3 numero \"))\n",
        "n4 = float(input(\"digite o 4 numero \"))\n",
        "\n",
        "qua = n1*n1+n2*n2+n3*n3+n4*n4\n",
        "print(\"a soma dos numeros quadrados é: \", qua)"
      ],
      "metadata": {
        "colab": {
          "base_uri": "https://localhost:8080/"
        },
        "id": "Ue8Q9brxUE9S",
        "outputId": "e442702a-de66-42bf-cc55-65ededd1475b"
      },
      "execution_count": null,
      "outputs": [
        {
          "output_type": "stream",
          "name": "stdout",
          "text": [
            "digite o 1 numero 2\n",
            "digite o 2 numero 4\n",
            "digite o 3 numero 5\n",
            "digite o 4 numero 6\n",
            "a soma dos numeros quadrados é:  81.0\n"
          ]
        }
      ]
    },
    {
      "cell_type": "code",
      "source": [
        "pp = float(input(\"digite o valor da peça \"))\n",
        "qp = float(input(\"digite a quantidade de peças\" ))\n",
        "venda = pp*qp\n",
        "vc = venda*0.05\n",
        "print(\"a comição é\", vc)\n",
        "print(\"o valor vendido é: \", venda)"
      ],
      "metadata": {
        "colab": {
          "base_uri": "https://localhost:8080/"
        },
        "id": "j7h-V28yVGWG",
        "outputId": "af5867a4-97cb-48af-9b1e-dc107947f36b"
      },
      "execution_count": 3,
      "outputs": [
        {
          "output_type": "stream",
          "name": "stdout",
          "text": [
            "digite o valor da peça 2.5\n",
            "digite a quantidade de peças200\n",
            "a comição é 25.0\n",
            "o valor vendido é:  500.0\n"
          ]
        }
      ]
    },
    {
      "cell_type": "code",
      "source": [
        "custcar = float(input(\"digite o custo do carro \"))\n",
        "impost = (custcar*0.45)+custcar\n",
        "pf = (impost*0.28)+impost\n",
        "print (\"o valor final é:\", pf)"
      ],
      "metadata": {
        "colab": {
          "base_uri": "https://localhost:8080/"
        },
        "id": "3o0xYFGzWsGq",
        "outputId": "c2207843-6a13-4fce-b664-c15de26537b7"
      },
      "execution_count": null,
      "outputs": [
        {
          "output_type": "stream",
          "name": "stdout",
          "text": [
            "digite o custo do carro 25000\n",
            "o valor final é: 46400.0\n"
          ]
        }
      ]
    },
    {
      "cell_type": "code",
      "source": [
        "hr = float(input(\"digite as horas \"))\n",
        "min = float(input(\"digite os minutos \"))\n",
        "conclu = hr+min/60\n",
        "print(\"a conversão é:\", conclu)"
      ],
      "metadata": {
        "colab": {
          "base_uri": "https://localhost:8080/"
        },
        "id": "Zy17bsf0XmsL",
        "outputId": "2b0cd079-c5d9-4f83-a6f8-722d3d55b628"
      },
      "execution_count": 6,
      "outputs": [
        {
          "output_type": "stream",
          "name": "stdout",
          "text": [
            "digite as horas 3\n",
            "digite os minutos 40\n",
            "a conversão é: 3.6666666666666665\n"
          ]
        }
      ]
    },
    {
      "cell_type": "code",
      "source": [
        "hr = float(input(\"digite as horas trabalhadas \"))\n",
        "min = float(input(\"digite os minutos trabalhados \"))\n",
        "ganhohr = float(input(\"digite o valor da hora trabalhada \"))\n",
        "hrtra = hr+min/60\n",
        "hrextra = (hrtra*ganhohr)*0.7\n",
        "total = hrextra+hrtra*ganhohr\n",
        "print(\"você ira receber:\", total)"
      ],
      "metadata": {
        "colab": {
          "base_uri": "https://localhost:8080/"
        },
        "id": "He7N2BiDYoTc",
        "outputId": "dfbe5df7-b156-403f-a006-6c5532a89425"
      },
      "execution_count": 8,
      "outputs": [
        {
          "output_type": "stream",
          "name": "stdout",
          "text": [
            "digite as horas trabalhadas 15\n",
            "digite os minutos trabalhados 45\n",
            "digite o valor da hora trabalhada 25\n",
            "você ira receber: 669.375\n"
          ]
        }
      ]
    },
    {
      "cell_type": "code",
      "source": [
        "km = float(input(\"digite quantos km ira percorrer \"))\n",
        "gas = float(input(\"digite quantos km seu carro faz por lt de gasolina \"))\n",
        "pmgas = float(input(\"digite o valor medio da gasolina \"))\n",
        "gasto = km/gas*pmgas\n",
        "print(\"o valor gasto de gasolina é:\", gasto)"
      ],
      "metadata": {
        "id": "qMPVhMlzbPxx"
      },
      "execution_count": null,
      "outputs": []
    },
    {
      "cell_type": "code",
      "source": [
        "kmper = float(input(\"quantos km voce percorreu \"))\n",
        "hg = float(input(\"quantas horas voce gastou \"))\n",
        "min = float(input(\"quantos minutos voce gastou \"))\n",
        "tpgasto = hg+(min/60)\n",
        "vmed = kmper/tpgasto\n",
        "resultado = round(vmed,2)\n",
        "print(\"a velocidade media foi:\", resultado)"
      ],
      "metadata": {
        "id": "Axi5YWa3cUTN"
      },
      "execution_count": null,
      "outputs": []
    },
    {
      "cell_type": "markdown",
      "source": [],
      "metadata": {
        "id": "piQwA4vZPoWs"
      }
    }
  ]
}