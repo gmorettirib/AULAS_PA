{
  "nbformat": 4,
  "nbformat_minor": 0,
  "metadata": {
    "colab": {
      "provenance": [],
      "authorship_tag": "ABX9TyOmLzly4gXL5Ha+lTCg/Cly",
      "include_colab_link": true
    },
    "kernelspec": {
      "name": "python3",
      "display_name": "Python 3"
    },
    "language_info": {
      "name": "python"
    }
  },
  "cells": [
    {
      "cell_type": "markdown",
      "metadata": {
        "id": "view-in-github",
        "colab_type": "text"
      },
      "source": [
        "<a href=\"https://colab.research.google.com/github/gmorettirib/AULAS_PA/blob/main/Untitled2.ipynb\" target=\"_parent\"><img src=\"https://colab.research.google.com/assets/colab-badge.svg\" alt=\"Open In Colab\"/></a>"
      ]
    },
    {
      "cell_type": "markdown",
      "source": [
        "# FUNÇÃO SEM RETORNO E SEM PARAMETROS\n"
      ],
      "metadata": {
        "id": "aoYwx4Szcv6s"
      }
    },
    {
      "cell_type": "code",
      "execution_count": 12,
      "metadata": {
        "colab": {
          "base_uri": "https://localhost:8080/"
        },
        "id": "J8AY0O9qctTN",
        "outputId": "a127801b-c50b-4777-f3b9-e11268772221"
      },
      "outputs": [
        {
          "output_type": "stream",
          "name": "stdout",
          "text": [
            "bem vindo\n"
          ]
        }
      ],
      "source": [
        "def msg():\n",
        "  print('bem vindo')\n",
        "\n",
        "msg()"
      ]
    },
    {
      "cell_type": "code",
      "source": [
        "\n"
      ],
      "metadata": {
        "id": "M0gSQSLIc4Rv"
      },
      "execution_count": null,
      "outputs": []
    },
    {
      "cell_type": "markdown",
      "source": [
        "# FUNÇAÕ SEM RETORNO E COM PARAMETRO"
      ],
      "metadata": {
        "id": "iW3qBXCWeh9L"
      }
    },
    {
      "cell_type": "code",
      "source": [
        "def poten(base,expoente):\n",
        "  resultado = base**expoente\n",
        "  print(resultado)\n",
        "\n",
        "poten(2,3)"
      ],
      "metadata": {
        "colab": {
          "base_uri": "https://localhost:8080/"
        },
        "id": "xcjN50T0dATA",
        "outputId": "1be491c8-4b4b-4c3d-8f86-6f1537b99c38"
      },
      "execution_count": 1,
      "outputs": [
        {
          "output_type": "stream",
          "name": "stdout",
          "text": [
            "8\n"
          ]
        }
      ]
    },
    {
      "cell_type": "code",
      "source": [
        "def raiz(numero):\n",
        "  raiz = numero**0.5\n",
        "  print(\"a raiz quadrada de \",numero,\"é\",raiz)\n",
        "\n",
        "raiz(9)"
      ],
      "metadata": {
        "colab": {
          "base_uri": "https://localhost:8080/"
        },
        "id": "evZAEdCSdeum",
        "outputId": "64f38a3c-3c4b-4b57-e1dc-3a15d87ca632"
      },
      "execution_count": 10,
      "outputs": [
        {
          "output_type": "stream",
          "name": "stdout",
          "text": [
            "a raiz quadrada de  9 é 3.0\n"
          ]
        }
      ]
    },
    {
      "cell_type": "markdown",
      "source": [
        "# FUNÇAÕ COM RETORNO E SEM PARAMETRO"
      ],
      "metadata": {
        "id": "g8FSfvTWetRf"
      }
    },
    {
      "cell_type": "code",
      "source": [
        "def somar(x,y):\n",
        "  soma = x+y\n",
        "  return soma\n",
        "\n",
        "print(\"Exemplo com retorno\")\n",
        "num1 = int(input(\"Digite o primeiro numero: \"))\n",
        "num2 = int(input(\"Digite o segundo numero: \"))\n",
        "retorno = somar(num1,num2)\n",
        " ,mprint(\"Voltou da função: \",retorno)"
      ],
      "metadata": {
        "colab": {
          "base_uri": "https://localhost:8080/"
        },
        "id": "ZkGp6ejMezMt",
        "outputId": "23ab4735-6dc8-4aab-f9bd-55548a891dbf"
      },
      "execution_count": 14,
      "outputs": [
        {
          "output_type": "stream",
          "name": "stdout",
          "text": [
            "Exemplo com retorno\n",
            "Digite o primeiro numero: 5\n",
            "Digite o segundo numero: 4\n",
            "Voltou da função:  9\n"
          ]
        }
      ]
    },
    {
      "cell_type": "markdown",
      "source": [
        "# Com base no Exemplo anterior, crie um prograna que peça 3 vezes dois números e utilize a função acima para somá-los na tela o resultado\n"
      ],
      "metadata": {
        "id": "SmPOoG8Tgxot"
      }
    },
    {
      "cell_type": "code",
      "source": [
        "def somar(x,y):\n",
        "  soma = x+y\n",
        "  return soma\n",
        "  print(\"Exemplo com retorno\")\n",
        "for i in range(3):\n",
        "  num1 = int(input(\"Digite o primeiro numero: \"))\n",
        "  num2 = int(input(\"Digite o segundo numero: \"))\n",
        "  retorno = somar(num1,num2)\n",
        "  print(\"Voltou da função: \",retorno)"
      ],
      "metadata": {
        "colab": {
          "base_uri": "https://localhost:8080/"
        },
        "id": "BK8yZSxGhYZe",
        "outputId": "6ea2bdcb-056e-4c8d-a8bc-91d4113afd6b"
      },
      "execution_count": 21,
      "outputs": [
        {
          "output_type": "stream",
          "name": "stdout",
          "text": [
            "Digite o primeiro numero: 1\n",
            "Digite o segundo numero: 2\n",
            "Voltou da função:  3\n",
            "Digite o primeiro numero: 1\n",
            "Digite o segundo numero: 2\n",
            "Voltou da função:  3\n",
            "Digite o primeiro numero: 1\n",
            "Digite o segundo numero: 2\n",
            "Voltou da função:  3\n"
          ]
        }
      ]
    }
  ]
}