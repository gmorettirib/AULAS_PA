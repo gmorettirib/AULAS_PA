{
  "nbformat": 4,
  "nbformat_minor": 0,
  "metadata": {
    "colab": {
      "provenance": [],
      "authorship_tag": "ABX9TyMlzmadD+dSwRSh3xAk9qMB",
      "include_colab_link": true
    },
    "kernelspec": {
      "name": "python3",
      "display_name": "Python 3"
    },
    "language_info": {
      "name": "python"
    }
  },
  "cells": [
    {
      "cell_type": "markdown",
      "metadata": {
        "id": "view-in-github",
        "colab_type": "text"
      },
      "source": [
        "<a href=\"https://colab.research.google.com/github/gmorettirib/AULAS_PA/blob/main/AnaliseTitanic.ipynb\" target=\"_parent\"><img src=\"https://colab.research.google.com/assets/colab-badge.svg\" alt=\"Open In Colab\"/></a>"
      ]
    },
    {
      "cell_type": "code",
      "execution_count": 2,
      "metadata": {
        "id": "RKO9CT1gsupD"
      },
      "outputs": [],
      "source": [
        "# IMPORTAÇÃO DE BIBLIOTECAS\n",
        "import pandas as pd\n",
        "import matplotlib.pyplot as plt\n",
        "import seaborn as sns"
      ]
    },
    {
      "cell_type": "code",
      "source": [
        "df = pd.read_csv(\"https://raw.githubusercontent.com/gmorettirib/AULAS_PA/refs/heads/main/train.csv\")\n",
        "df.head()"
      ],
      "metadata": {
        "id": "hpsZi7fPu3Ez"
      },
      "execution_count": null,
      "outputs": []
    },
    {
      "cell_type": "code",
      "source": [
        "df.isnull().sum()"
      ],
      "metadata": {
        "id": "3f4dXI5n7c_N"
      },
      "execution_count": null,
      "outputs": []
    },
    {
      "cell_type": "code",
      "source": [
        "df.info()"
      ],
      "metadata": {
        "id": "wOJeg8Kk7fmu"
      },
      "execution_count": null,
      "outputs": []
    },
    {
      "cell_type": "code",
      "source": [
        "df.describe()"
      ],
      "metadata": {
        "id": "bDykO9Zm7gma"
      },
      "execution_count": null,
      "outputs": []
    },
    {
      "cell_type": "code",
      "source": [
        "media_idade = df['Age'].mean()\n",
        "df['Age'].fillna(media_idade, inplace=True)"
      ],
      "metadata": {
        "id": "wdwJYA-r8sAZ"
      },
      "execution_count": null,
      "outputs": []
    },
    {
      "cell_type": "code",
      "source": [
        "df_limpo = df.dropna()"
      ],
      "metadata": {
        "id": "OxoJie579fZH"
      },
      "execution_count": null,
      "outputs": []
    },
    {
      "cell_type": "code",
      "source": [
        "plt.figure(figsize=(8, 6))\n",
        "sns.barplot(data=df, x='pclass', y='survived', ci=None, palette=\"viridis\")\n",
        "plt.title(\"Taxa de Sobrevivência por Classe\")\n",
        "plt.xlabel(\"Classe do Ticket\")\n",
        "plt.ylabel(\"Taxa de Sobrevivência\")\n",
        "plt.show()"
      ],
      "metadata": {
        "id": "dM6WSihLBHAL"
      },
      "execution_count": null,
      "outputs": []
    },
    {
      "cell_type": "code",
      "source": [
        "plt.figure(figsize=(8, 6))\n",
        "sns.barplot(data=df, x='sex', y='survived', ci=None, palette=\"pastel\")\n",
        "plt.title(\"Taxa de Sobrevivência por Sexo\")\n",
        "plt.xlabel(\"Sexo\")\n",
        "plt.ylabel(\"Taxa de Sobrevivência\")\n",
        "plt.show()"
      ],
      "metadata": {
        "id": "ODRP6aEmBNOm"
      },
      "execution_count": null,
      "outputs": []
    },
    {
      "cell_type": "code",
      "source": [
        "plt.figure(figsize=(8, 6))\n",
        "sns.barplot(data=df, x='embarked', y='survived', ci=None, palette=\"magma\")\n",
        "plt.title(\"Taxa de Sobrevivência por Porto de Embarque\")\n",
        "plt.xlabel(\"Porto de Embarque\")\n",
        "plt.ylabel(\"Taxa de Sobrevivência\")\n",
        "plt.show()"
      ],
      "metadata": {
        "id": "kH9OJyLiBTvJ"
      },
      "execution_count": null,
      "outputs": []
    },
    {
      "cell_type": "code",
      "source": [
        "#Peguei esse do chat gpt pois os graficos de idade que eu estava fazendo nao davam para entender\n",
        "\n",
        "df = df.dropna(subset=['age'])\n",
        "\n",
        "df['faixa_etaria'] = pd.cut(df['age'], bins=[0, 12, 18, 35, 60, 80], labels=['Criança', 'Adolescente', 'Adulto Jovem', 'Adulto', 'Idoso'])\n",
        "\n",
        "taxa_sobrevivencia_media = df.groupby('faixa_etaria')['survived'].mean() * 100"
      ],
      "metadata": {
        "id": "OfayLstoDbhy"
      },
      "execution_count": null,
      "outputs": []
    },
    {
      "cell_type": "code",
      "source": [
        "plt.figure(figsize=(8, 5))\n",
        "taxa_sobrevivencia_media.plot(kind='bar', color='lightblue')\n",
        "plt.title(\"Taxa de Sobrevivência Média por Faixa Etária\")\n",
        "plt.xlabel(\"Faixa Etária\")\n",
        "plt.ylabel(\"Taxa de Sobrevivência (%)\")\n",
        "plt.xticks(rotation=45)\n",
        "plt.ylim(0, 100)\n",
        "plt.grid(axis='y', linestyle='--', alpha=0.7)\n",
        "plt.show()"
      ],
      "metadata": {
        "id": "gBPFY9sECuCX"
      },
      "execution_count": null,
      "outputs": []
    }
  ]
}